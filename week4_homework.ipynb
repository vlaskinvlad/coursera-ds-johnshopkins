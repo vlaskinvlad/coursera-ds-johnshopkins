{
 "cells": [
  {
   "cell_type": "code",
   "execution_count": null,
   "metadata": {},
   "outputs": [],
   "source": [
    "%matplotlib inline"
   ]
  },
  {
   "cell_type": "code",
   "execution_count": null,
   "metadata": {},
   "outputs": [],
   "source": [
    "import numpy as np\n",
    "import pandas as pd\n",
    "import seaborn as sns"
   ]
  },
  {
   "cell_type": "markdown",
   "metadata": {},
   "source": [
    "### q1\n",
    "\n",
    "A pharmaceutical company is interested in testing a potential blood pressure lowering medication. Their first examination considers only subjects that received the medication at baseline then two weeks later. The data are as follows (SBP in mmHg)\n",
    "\n",
    "Consider testing the hypothesis that there was a mean reduction in blood pressure? Give the P-value for the associated two sided T test.\n",
    "\n",
    "(Hint, consider that the observations are paired.)\n",
    "\n",
    "\n"
   ]
  },
  {
   "cell_type": "code",
   "execution_count": null,
   "metadata": {},
   "outputs": [],
   "source": [
    "r = pd.DataFrame([\n",
    "    [140,132],\n",
    "    [138,135],\n",
    "    [150, 151],\n",
    "    [148, 146],\n",
    "    [135, 130],\n",
    "], columns=['baseline', 'week2'])"
   ]
  },
  {
   "cell_type": "markdown",
   "metadata": {},
   "source": [
    "$H_{1}$ - mean reduction in blood pressure over 2 weeks\n",
    "\n",
    "- consider observations are paired\n",
    "\n",
    "- two sided t-test"
   ]
  },
  {
   "cell_type": "code",
   "execution_count": null,
   "metadata": {},
   "outputs": [],
   "source": [
    "from scipy import stats\n",
    "stats.ttest_rel(r.baseline, r.week2) "
   ]
  },
  {
   "cell_type": "markdown",
   "metadata": {},
   "source": [
    "We can rject the $null$ hypothesis with c.l. 0.1"
   ]
  },
  {
   "cell_type": "markdown",
   "metadata": {},
   "source": [
    "#### q2\n",
    "\n",
    "A sample of 9 men yielded a sample average brain volume of 1,100cc and a standard deviation of 30cc. What is the complete set of values of μ0 that a test of H0:μ=μ0 would fail to reject the null hypothesis in a two sided 5% Students t-test?"
   ]
  },
  {
   "cell_type": "markdown",
   "metadata": {},
   "source": [
    "$ E_{est} \\pm t_{n-1}(\\alpha)\\times\\frac{S}{\\sqrt{n}}$"
   ]
  },
  {
   "cell_type": "code",
   "execution_count": null,
   "metadata": {},
   "outputs": [],
   "source": [
    "n = 9\n",
    "nu = n - 1\n",
    "alpha = 0.975\n",
    "sd = 30\n",
    "m = 1100\n",
    "m + np.array([-1, 1]) * stats.t.ppf(alpha, df=nu) * sd / np.sqrt(n)"
   ]
  },
  {
   "cell_type": "markdown",
   "metadata": {},
   "source": [
    "### q3 \n",
    "\n",
    "Researchers conducted a blind taste test of Coke versus Pepsi. Each of four people was asked which of two blinded drinks given in random order that they preferred. The data was such that 3 of the 4 people chose Coke. Assuming that this sample is representative, report a P-value for a test of the hypothesis that Coke is preferred to Pepsi using a one sided exact test."
   ]
  },
  {
   "cell_type": "markdown",
   "metadata": {},
   "source": [
    "[Binomeal Test](https://en.wikipedia.org/wiki/Binomial_test)"
   ]
  },
  {
   "cell_type": "code",
   "execution_count": null,
   "metadata": {},
   "outputs": [],
   "source": [
    "stats.binom.pmf(k=3,n=4,p=0.5) + stats.binom.pmf(k=4,n=4,p=0.5)"
   ]
  },
  {
   "cell_type": "code",
   "execution_count": null,
   "metadata": {},
   "outputs": [],
   "source": [
    "stats.binom_test(3, 4, p=0.5, alternative='greater')"
   ]
  },
  {
   "cell_type": "markdown",
   "metadata": {},
   "source": [
    "### q4\n",
    "\n",
    "Infection rates at a hospital above 1 infection per 100 person days at risk are believed to be too high and are used as a benchmark. A hospital that had previously been above the benchmark recently had 10 infections over the last 1,787 person days at risk. About what is the one sided P-value for the relevant test of whether the hospital is *below* the standard?"
   ]
  },
  {
   "cell_type": "code",
   "execution_count": null,
   "metadata": {},
   "outputs": [],
   "source": [
    "p = 1/100\n",
    "stats.binom_test(10, 1787 , p=p, alternative='less')"
   ]
  },
  {
   "cell_type": "markdown",
   "metadata": {},
   "source": [
    "H0:λ=0.01 versus Ha:λ<0.01. X=11, t=1,787 and assume X∼H0Poisson(0.01×t)"
   ]
  },
  {
   "cell_type": "code",
   "execution_count": null,
   "metadata": {},
   "outputs": [],
   "source": [
    "#ppois(10, lambda = 0.01 * 1787)"
   ]
  },
  {
   "cell_type": "markdown",
   "metadata": {},
   "source": [
    "### q5\n",
    "\n",
    "Suppose that 18 obese subjects were randomized, 9 each, to a new diet pill and a placebo. Subjects’ body mass indices (BMIs) were measured at a baseline and again after having received the treatment or placebo for four weeks. The average difference from follow-up to the baseline (followup - baseline) was −3 kg/m2 for the treated group and 1 kg/m2 for the placebo group. The corresponding standard deviations of the differences was 1.5 kg/m2 for the treatment group and 1.8 kg/m2 for the placebo group. Does the change in BMI appear to differ between the treated and placebo groups? Assuming normality of the underlying data and a common population variance, give a pvalue for a two sided t test."
   ]
  },
  {
   "cell_type": "code",
   "execution_count": null,
   "metadata": {},
   "outputs": [],
   "source": [
    "n0 = 18\n",
    "n=9\n",
    "mean_diff_treated = -3\n",
    "sd_diff_treated = 1.5\n",
    "\n",
    "mean_diff_placebo = 1\n",
    "sd_diff_placebo = 1.8\n",
    "# common population variance"
   ]
  },
  {
   "cell_type": "markdown",
   "metadata": {},
   "source": [
    "$t = \\frac{\\overline{X}_1-\\overline{X}_2}{S_p\\sqrt{\\frac{2}{n}}}$\n",
    "\n",
    "$S_p = \\sqrt{\\frac{S^2_{X1} + S^2_{X2}}{2}}$"
   ]
  },
  {
   "cell_type": "code",
   "execution_count": null,
   "metadata": {},
   "outputs": [],
   "source": [
    "nu = 2*n - 2\n",
    "sp = np.sqrt( (sd_diff_treated**2 + sd_diff_placebo**2)/2 )\n",
    "tst = np.abs(mean_diff_treated - mean_diff_placebo) / (sp * np.sqrt( 2/ n) )\n",
    "stats.t.cdf(tst, df=nu)"
   ]
  },
  {
   "cell_type": "markdown",
   "metadata": {},
   "source": [
    "```n1 <- n2 <- 9\n",
    "\n",
    "x1 <- -3 ##treated\n",
    "\n",
    "x2 <- 1 ##placebo\n",
    "\n",
    "s1 <- 1.5 ##treated\n",
    "\n",
    "s2 <- 1.8 ##placebo\n",
    "\n",
    "s <- sqrt(((n1 - 1) * s1^2 + (n2 - 1) * s2^2)/(n1 + n2 - 2))\n",
    "\n",
    "ts <- (x1 - x2)/(s * sqrt(1/n1 + 1/n2))\n",
    "\n",
    "2 * pt(ts, n1 + n2 - 2)```"
   ]
  },
  {
   "cell_type": "markdown",
   "metadata": {},
   "source": [
    "### q6\n",
    "\n",
    "Brain volumes for 9 men yielded a 90% confidence interval of 1,077 cc to 1,123 cc. Would you reject in a two sided 5% hypothesis test of\n",
    "\n",
    "H0:μ=1,078?\n",
    "\n",
    "- no I wold not reject, 5% interval should be wider"
   ]
  },
  {
   "cell_type": "markdown",
   "metadata": {},
   "source": [
    "### q7\n",
    "\n",
    "Researchers would like to conduct a study of 100 healthy adults to detect a four year mean brain volume loss of .01 mm3. Assume that the standard deviation of four year volume loss in this population is .04 mm3. About what would be the power of the study for a 5% one sided test versus a null hypothesis of no volume loss?"
   ]
  },
  {
   "cell_type": "code",
   "execution_count": null,
   "metadata": {},
   "outputs": [],
   "source": [
    "import statsmodels.api as sm\n",
    "\n",
    "effect_size = 0.01/0.04\n",
    "sm.stats.tt_solve_power(alpha=0.05, effect_size=effect_size, nobs=100, alternative='larger')"
   ]
  },
  {
   "cell_type": "markdown",
   "metadata": {},
   "source": [
    "The hypothesis is H0:μΔ=0 versus Ha:μΔ>0 where μΔ is volume loss (change defined as Baseline - Four Weeks). The test statistics is 10X¯Δ.04 which is rejected if it is larger than Z.95=1.645.\n",
    "\n",
    "We want to calculate\n",
    "\n",
    "P(X¯ΔσΔ/10>1.645 | μΔ=.01)=P(X¯Δ−.01.004>1.645−.01.004 | μΔ=.01)=P(Z>−.855)=.80\n",
    "Or note that X¯Δ is N(.01,.004) under the alternative and we want the P(X¯Δ>1.645∗.004) under Ha."
   ]
  },
  {
   "cell_type": "markdown",
   "metadata": {},
   "source": [
    "#### q8\n",
    "\n",
    "Researchers would like to conduct a study of n healthy adults to detect a four year mean brain volume loss of .01 mm3. Assume that the standard deviation of four year volume loss in this population is .04 mm3. About what would be the value of n needed for 90% power of type one error rate of 5% one sided test versus a null hypothesis of no volume loss?\n"
   ]
  },
  {
   "cell_type": "code",
   "execution_count": null,
   "metadata": {},
   "outputs": [],
   "source": [
    "import statsmodels.api as sm\n",
    "\n",
    "effect_size = 0.01/0.04\n",
    "sm.stats.tt_solve_power(alpha=0.05, power=0.9, effect_size=effect_size, alternative='larger')"
   ]
  },
  {
   "cell_type": "markdown",
   "metadata": {},
   "source": [
    "The hypothesis is H0:μΔ=0 versus Ha:μΔ>0 where μΔ is volume loss (change defined as Baseline - Four Weeks). The test statistics is X¯Δ.04/n√ which is rejected if it is larger than Z.95=1.645.\n",
    "\n",
    "We want to calculate\n",
    "\n",
    "P(X¯ΔσΔ/n‾‾√>1.645 | μΔ=.01)=P(X¯Δ−.01.04/n‾‾√>1.645−.01.04/n‾‾√ | μΔ=.01)=P(Z>1.645−n‾‾√/4)=.90\n",
    "So we need 1.645−n‾‾√/4=Z.10=−1.282 and thus\n",
    "\n",
    "n=(4∗(1.645+1.282))2."
   ]
  }
 ],
 "metadata": {
  "kernelspec": {
   "display_name": "Python 3",
   "language": "python",
   "name": "python3"
  },
  "language_info": {
   "codemirror_mode": {
    "name": "ipython",
    "version": 3
   },
   "file_extension": ".py",
   "mimetype": "text/x-python",
   "name": "python",
   "nbconvert_exporter": "python",
   "pygments_lexer": "ipython3",
   "version": "3.6.4"
  }
 },
 "nbformat": 4,
 "nbformat_minor": 2
}
