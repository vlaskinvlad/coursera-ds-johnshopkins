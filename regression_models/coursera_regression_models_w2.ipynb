{
 "cells": [
  {
   "cell_type": "code",
   "execution_count": null,
   "metadata": {},
   "outputs": [],
   "source": [
    "options(repr.plot.width=6, repr.plot.height=4)"
   ]
  },
  {
   "cell_type": "code",
   "execution_count": null,
   "metadata": {},
   "outputs": [],
   "source": [
    "library('ggplot2')\n",
    "library('lme4')\n",
    "str(diamonds)\n",
    "data(diamonds)"
   ]
  },
  {
   "cell_type": "code",
   "execution_count": null,
   "metadata": {},
   "outputs": [],
   "source": [
    "df <- data.frame(diamonds)\n",
    "df <- df[sample(nrow(df), 1000),]"
   ]
  },
  {
   "cell_type": "code",
   "execution_count": null,
   "metadata": {},
   "outputs": [],
   "source": [
    "g = ggplot(df, aes(x=carat, y=price))\n",
    "g = g + geom_point(size=1, colour='black')\n",
    "g = g + geom_point(size=1, colour='blue')\n",
    "g"
   ]
  },
  {
   "cell_type": "code",
   "execution_count": null,
   "metadata": {},
   "outputs": [],
   "source": [
    "y <- df$price; x <- df$carat;\n",
    "fit <- lm(y ~ x)\n",
    "r <- resid(fit)"
   ]
  },
  {
   "cell_type": "code",
   "execution_count": null,
   "metadata": {},
   "outputs": [],
   "source": [
    "ggplot(diamonds, aes(r)) + geom_histogram(bins=100)"
   ]
  },
  {
   "cell_type": "code",
   "execution_count": null,
   "metadata": {},
   "outputs": [],
   "source": [
    "ggplot(diamonds, aes(price, fill=cut)) + geom_histogram(binwidth = 500)\n"
   ]
  },
  {
   "cell_type": "code",
   "execution_count": null,
   "metadata": {},
   "outputs": [],
   "source": [
    "str(diamonds)"
   ]
  },
  {
   "cell_type": "code",
   "execution_count": null,
   "metadata": {},
   "outputs": [],
   "source": [
    "diamonds$e <- resid(fit)"
   ]
  },
  {
   "cell_type": "code",
   "execution_count": null,
   "metadata": {},
   "outputs": [],
   "source": [
    "ggplot(diamonds[sample(nrow(diamonds), size=1000),], aes(x=price, y=e)) +\n",
    "geom_hline(yintercept=0, size=0.2, color='red') +\n",
    "geom_point(size=1, colour='black', alpha=0.3)"
   ]
  },
  {
   "cell_type": "code",
   "execution_count": null,
   "metadata": {},
   "outputs": [],
   "source": [
    "df <- diamonds[sample(nrow(diamonds), 1000),]"
   ]
  },
  {
   "cell_type": "code",
   "execution_count": null,
   "metadata": {},
   "outputs": [],
   "source": [
    "e = c(resid(lm(price~1, data=df)), resid(lm(price~carat, data=df)))\n",
    "fit = factor(c(rep('itc', nrow(df)), rep('itc + slope', nrow(df))))"
   ]
  },
  {
   "cell_type": "code",
   "execution_count": null,
   "metadata": {},
   "outputs": [],
   "source": [
    "ggplot(data.frame(e=e, fit=fit), aes(y=e, x=fit, fill=fit)) +\n",
    "geom_dotplot(binaxis = 'y', size=0.5, stackdir = 'center', binwidth = 100)"
   ]
  },
  {
   "cell_type": "markdown",
   "metadata": {},
   "source": [
    "### Manually making statistics for the inference"
   ]
  },
  {
   "cell_type": "code",
   "execution_count": null,
   "metadata": {},
   "outputs": [],
   "source": [
    "y <- diamonds$price; x<-diamonds$carat; n <-length(y);"
   ]
  },
  {
   "cell_type": "code",
   "execution_count": null,
   "metadata": {},
   "outputs": [],
   "source": [
    "b1 = cor(x,y)*sd(y)/sd(x); b0 = mean(y) - b1*mean(x)\n",
    "ssx <- sum((x - mean(x))^2)\n",
    "nu <- n - 2;\n",
    "e <- (y - b0 - b1*x); \n",
    "s <- sqrt(sum(e^2)/nu)\n",
    "\n",
    "se_b1 = s /sqrt(ssx); se_b0 = sqrt(1/n + mean(x)^2/ssx)*s\n",
    "t_b0 = b0/se_b0; t_b1 = b1/se_b1\n",
    "p_b0 = pt(abs(t_b0), df=nu, lower.tail = FALSE)\n",
    "p_b1 = pt(abs(t_b1), df=nu, lower.tail = FALSE)"
   ]
  },
  {
   "cell_type": "code",
   "execution_count": null,
   "metadata": {},
   "outputs": [],
   "source": [
    "quantile(e, c(0, .25, .5, .75, 1))"
   ]
  },
  {
   "cell_type": "code",
   "execution_count": null,
   "metadata": {},
   "outputs": [],
   "source": [
    "coeff_table <- rbind(c(b0, se_b0, t_b0, p_b0), c(b1, se_b1, t_b1, p_b1))\n",
    "colnames(coeff_table) <- c(\"Estimate\", \"Std. error\", \"t value\", \"P(>|t|)\")\n",
    "rownames(coeff_table) <- c(\"(Intercept)\", \"x\")\n",
    "coeff_table"
   ]
  },
  {
   "cell_type": "code",
   "execution_count": null,
   "metadata": {},
   "outputs": [],
   "source": [
    "fit <- lm(y~x)"
   ]
  },
  {
   "cell_type": "code",
   "execution_count": null,
   "metadata": {},
   "outputs": [],
   "source": [
    "summary(fit)"
   ]
  },
  {
   "cell_type": "code",
   "execution_count": null,
   "metadata": {},
   "outputs": [],
   "source": [
    "summary_coefficients <- summary(fit)$coefficients\n",
    "df <- summary(fit)$df"
   ]
  },
  {
   "cell_type": "code",
   "execution_count": null,
   "metadata": {},
   "outputs": [],
   "source": [
    "summary_coefficients"
   ]
  },
  {
   "cell_type": "code",
   "execution_count": null,
   "metadata": {},
   "outputs": [],
   "source": [
    "summary_coefficients[1,1] + c(-1, 1)*qt(0.975, df=df[2])*summary_coefficients[1,2]\n",
    "summary_coefficients[2,1] + c(-1, 1)*qt(0.975, df=df[2])*summary_coefficients[2,2]"
   ]
  },
  {
   "cell_type": "markdown",
   "metadata": {},
   "source": [
    "---\n",
    "\n",
    "Week 2 test"
   ]
  },
  {
   "cell_type": "markdown",
   "metadata": {},
   "source": [
    "#### q1\n",
    "Consider the following data with x as the predictor and y as as the outcome.\n",
    "\n",
    "```\n",
    "x <- c(0.61, 0.93, 0.83, 0.35, 0.54, 0.16, 0.91, 0.62, 0.62)\n",
    "y <- c(0.67, 0.84, 0.6, 0.18, 0.85, 0.47, 1.1, 0.65, 0.36)\n",
    "```\n",
    "\n",
    "Give a P-value for the two sided hypothesis test of whether β1 from a linear regression model is 0 or not."
   ]
  },
  {
   "cell_type": "code",
   "execution_count": null,
   "metadata": {},
   "outputs": [],
   "source": [
    "x <- c(0.61, 0.93, 0.83, 0.35, 0.54, 0.16, 0.91, 0.62, 0.62)\n",
    "y <- c(0.67, 0.84, 0.6, 0.18, 0.85, 0.47, 1.1, 0.65, 0.36)\n",
    "fit <- lm(y~x)\n",
    "summary(fit)"
   ]
  },
  {
   "cell_type": "markdown",
   "metadata": {},
   "source": [
    "### q2\n",
    "\n",
    "Consider the previous problem, give the estimate of the residual standard deviation."
   ]
  },
  {
   "cell_type": "code",
   "execution_count": null,
   "metadata": {},
   "outputs": [],
   "source": [
    "e <- resid(fit)\n",
    "n <- length(y)\n",
    "s <- sqrt(sum(e^2)/(n-2))\n",
    "s"
   ]
  },
  {
   "cell_type": "markdown",
   "metadata": {},
   "source": [
    "### q3\n",
    "\n",
    "In the 𝚖𝚝𝚌𝚊𝚛𝚜 data set, fit a linear regression model of weight (predictor) on mpg (outcome). Get a 95% confidence interval for the expected mpg at the average weight. What is the lower endpoint?"
   ]
  },
  {
   "cell_type": "code",
   "execution_count": null,
   "metadata": {},
   "outputs": [],
   "source": [
    "g = ggplot(mtcars, aes(x=wt, y=mpg))\n",
    "g = g + geom_point(size=1, colour='black')\n",
    "g"
   ]
  },
  {
   "cell_type": "code",
   "execution_count": null,
   "metadata": {},
   "outputs": [],
   "source": [
    "fit3 <- lm(mpg ~ wt, data = mtcars)"
   ]
  },
  {
   "cell_type": "code",
   "execution_count": null,
   "metadata": {},
   "outputs": [],
   "source": [
    "n <- length(mtcars)\n",
    "e <- resid(fit3)\n",
    "s <- sqrt((sum(e**2)/(n - 2)))\n",
    "s"
   ]
  },
  {
   "cell_type": "code",
   "execution_count": null,
   "metadata": {},
   "outputs": [],
   "source": [
    "summary(fit3)"
   ]
  },
  {
   "cell_type": "markdown",
   "metadata": {},
   "source": [
    "$$ \\hat{y}_{sd} = \\hat{\\sigma}\\sqrt{1+\\frac{1}{n} + \\frac{(x_0 - \\bar{x})^2}{\\sum{(x_i - \\bar{x})^2}}}$$"
   ]
  },
  {
   "cell_type": "code",
   "execution_count": null,
   "metadata": {},
   "outputs": [],
   "source": [
    "predict.lm(fit3, data.frame(wt=mean(mtcars$wt)), \n",
    "           df=summary(fit3)$df[2], interval='confidence', level = 0.95)"
   ]
  },
  {
   "cell_type": "code",
   "execution_count": null,
   "metadata": {},
   "outputs": [],
   "source": [
    "20.09062 + c(-1,1)*qt(0.975, df=n-1)*s*(1/n)"
   ]
  },
  {
   "cell_type": "markdown",
   "metadata": {},
   "source": [
    "#### q5\n",
    "\n",
    "Consider again the 𝚖𝚝𝚌𝚊𝚛𝚜 data set and a linear regression model with mpg as predicted by weight (1,000 lbs). A new car is coming weighing 3000 pounds. Construct a 95% prediction interval for its mpg. What is the upper endpoint?"
   ]
  },
  {
   "cell_type": "code",
   "execution_count": null,
   "metadata": {},
   "outputs": [],
   "source": [
    "predict(fit3, data.frame(wt=3), df=30, interval='confidence', level=0.95)[3]"
   ]
  },
  {
   "cell_type": "markdown",
   "metadata": {},
   "source": [
    "#### q6\n",
    "\n",
    "Consider again the 𝚖𝚝𝚌𝚊𝚛𝚜 data set and a linear regression model with mpg as predicted by weight (in 1,000 lbs). A “short” ton is defined as 2,000 lbs. Construct a 95% confidence interval for the expected change in mpg per 1 short ton increase in weight. Give the lower endpoint."
   ]
  },
  {
   "cell_type": "code",
   "execution_count": null,
   "metadata": {},
   "outputs": [],
   "source": [
    "fit <- lm(mpg ~ wt, data=mtcars)\n",
    "n <- length(mtcars)\n",
    "yhat <- coef(fit)[1] +  coef(fit)[2]*mtcars$wt\n",
    "e <- mtcars$mpg - yhat\n",
    "s <- sqrt(sum(e^2)/(n-2))\n",
    "ssx <- sum((mtcars$wt - mean(mtcars$wt))^2)"
   ]
  },
  {
   "cell_type": "code",
   "execution_count": null,
   "metadata": {},
   "outputs": [],
   "source": [
    "coef(fit)[2]+ c(-1, 1)*4*pt(0.975, df=summary(fit)$df[2], lower.tail=FALSE)*s/sqrt(ssx)"
   ]
  },
  {
   "cell_type": "markdown",
   "metadata": {},
   "source": [
    "#### q9\n",
    "\n",
    "Refer back to the mtcars data set with mpg as an outcome and weight (wt) as the predictor. About what is the ratio of the the sum of the squared errors, ∑ni=1(Yi−Y^i)2 when comparing a model with just an intercept (denominator) to the model with the intercept and slope (numerator)?"
   ]
  },
  {
   "cell_type": "code",
   "execution_count": null,
   "metadata": {},
   "outputs": [],
   "source": [
    "fit1 <- lm(mpg ~ 1, data=mtcars)\n",
    "\n",
    "fit2 <- lm(mpg ~ wt, data=mtcars)\n",
    "\n",
    "yhat1 <- coef(fit1)[1]\n",
    "yhat2 <- coef(fit2)[1] + coef(fit2)[2]*mtcars$wt\n",
    "\n",
    "e1 <- mtcars$mpg - yhat1\n",
    "e2 <- mtcars$mpg - yhat2\n",
    "\n",
    "se1 = sum(e1^2)\n",
    "se2 = sum(e2^2)\n",
    "\n",
    "\n",
    "se1/se2"
   ]
  }
 ],
 "metadata": {
  "kernelspec": {
   "display_name": "R",
   "language": "R",
   "name": "ir"
  },
  "language_info": {
   "codemirror_mode": "r",
   "file_extension": ".r",
   "mimetype": "text/x-r-source",
   "name": "R",
   "pygments_lexer": "r",
   "version": "3.4.1"
  }
 },
 "nbformat": 4,
 "nbformat_minor": 2
}
