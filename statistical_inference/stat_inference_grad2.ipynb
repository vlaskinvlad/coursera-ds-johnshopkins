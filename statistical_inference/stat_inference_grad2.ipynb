{
 "cells": [
  {
   "cell_type": "markdown",
   "metadata": {},
   "source": [
    "Load the ToothGrowth data and perform some basic exploratory data analyses\n",
    "\n",
    "1. Provide a basic summary of the data.\n",
    "\n",
    "2. Use confidence intervals and/or hypothesis tests to compare tooth growth by supp and dose. \n",
    "(Only use the techniques from class, even if there's other approaches worth considering)\n",
    "\n",
    "3. State your conclusions and the assumptions needed for your conclusions.\n",
    "\n"
   ]
  },
  {
   "cell_type": "code",
   "execution_count": null,
   "metadata": {},
   "outputs": [],
   "source": [
    "library(ggplot2)"
   ]
  },
  {
   "cell_type": "code",
   "execution_count": null,
   "metadata": {},
   "outputs": [],
   "source": [
    "data(ToothGrowth)"
   ]
  },
  {
   "cell_type": "code",
   "execution_count": null,
   "metadata": {},
   "outputs": [],
   "source": [
    "str(ToothGrowth)"
   ]
  },
  {
   "cell_type": "code",
   "execution_count": null,
   "metadata": {},
   "outputs": [],
   "source": [
    "t.test(len ~ supp, alternative=c('greater'), data=ToothGrowth)"
   ]
  },
  {
   "cell_type": "code",
   "execution_count": null,
   "metadata": {},
   "outputs": [],
   "source": [
    "dose1 <- subset(ToothGrowth, dose %in% c(0.5, 0.9))\n",
    "dose2 <- subset(ToothGrowth, dose %in% c(1.0, 1.5))\n",
    "dose3 <- subset(ToothGrowth, dose %in% c(1.5, 2.0))"
   ]
  },
  {
   "cell_type": "code",
   "execution_count": null,
   "metadata": {},
   "outputs": [],
   "source": [
    "t.test(dose3$len,dose1$len)"
   ]
  },
  {
   "cell_type": "code",
   "execution_count": null,
   "metadata": {},
   "outputs": [],
   "source": [
    "t.test(len ~ supp, alternative=c('greater'), data=dose3)"
   ]
  },
  {
   "cell_type": "code",
   "execution_count": null,
   "metadata": {},
   "outputs": [],
   "source": [
    "t.test(len ~ supp, alternative=c('greater'), paired = F, var.equal = F, data=ToothGrowth)"
   ]
  },
  {
   "cell_type": "code",
   "execution_count": null,
   "metadata": {},
   "outputs": [],
   "source": [
    "jpeg(\"p2_factor_dose.jpeg\")\n",
    "ggplot(aes(x = factor(dose), y = len), data = ToothGrowth) + \n",
    "        geom_boxplot(aes(fill = factor(dose)))\n",
    "dev.off()"
   ]
  },
  {
   "cell_type": "code",
   "execution_count": null,
   "metadata": {},
   "outputs": [],
   "source": [
    "jpeg(\"p2_factor_supp.jpeg\")\n",
    "ggplot(aes(x = supp, y = len), data = ToothGrowth) + \n",
    "        geom_boxplot(aes(fill = supp))\n",
    "dev.off()"
   ]
  },
  {
   "cell_type": "code",
   "execution_count": null,
   "metadata": {},
   "outputs": [],
   "source": [
    "jpeg(\"p2_factor_supp_dose.jpeg\")\n",
    "ggplot(aes(x = supp, y = len), data = ToothGrowth) +\n",
    "        geom_boxplot(aes(fill = supp)) + facet_wrap(~ dose)\n",
    "dev.off()"
   ]
  },
  {
   "cell_type": "code",
   "execution_count": null,
   "metadata": {},
   "outputs": [],
   "source": [
    "require(graphics)\n",
    "coplot(len ~ dose | supp, data = ToothGrowth, panel = panel.smooth,\n",
    "       xlab = \"ToothGrowth data: length vs dose, given type of supplement\")"
   ]
  }
 ],
 "metadata": {
  "kernelspec": {
   "display_name": "R",
   "language": "R",
   "name": "ir"
  },
  "language_info": {
   "codemirror_mode": "r",
   "file_extension": ".r",
   "mimetype": "text/x-r-source",
   "name": "R",
   "pygments_lexer": "r",
   "version": "3.4.1"
  }
 },
 "nbformat": 4,
 "nbformat_minor": 2
}
