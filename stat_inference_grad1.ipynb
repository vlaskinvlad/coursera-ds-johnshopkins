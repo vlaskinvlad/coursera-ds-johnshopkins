{
 "cells": [
  {
   "cell_type": "markdown",
   "metadata": {},
   "source": [
    "#### A simulation exercise\n",
    "\n",
    "- Did you show where the distribution is centered at and compare it to the theoretical center of the distribution?\n",
    "\n",
    "- Did you show how variable it is and compare it to the theoretical variance of the distribution?\n",
    "\n",
    "- Did you perform an exploratory data analysis of at least a single plot or table highlighting basic features of the data?\n",
    "\n",
    "- Did the student perform some relevant confidence intervals and/or tests?\n",
    "\n",
    "- Were the results of the tests and/or intervals interpreted in the context of the problem correctly?\n",
    "Did the student describe the assumptions needed for their conclusions?\n",
    "\n",
    "--- \n",
    "\n",
    "In this project you will investigate the exponential distribution in R and compare it with the Central Limit Theorem. The exponential distribution can be simulated in R with rexp(n, lambda) where lambda is the rate parameter. The mean of exponential distribution is 1/lambda and the standard deviation is also 1/lambda. Set lambda = 0.2 for all of the simulations. You will investigate the distribution of averages of 40 exponentials. Note that you will need to do a thousand simulations.\n",
    "\n",
    "Illustrate via simulation and associated explanatory text the properties of the distribution of the mean of 40 exponentials. You should:\n",
    "\n",
    "- Show the sample mean and compare it to the theoretical mean of the distribution.\n",
    "\n",
    "- Show how variable the sample is (via variance) and compare it to the theoretical variance of the distribution.\n",
    "\n",
    "- Show that the distribution is approximately normal.\n",
    "\n",
    "- In point 3, focus on the difference between the distribution of a large collection of random exponentials and the distribution of a large collection of averages of 40 exponentials.\n",
    "\n",
    "As a motivating example, compare the distribution of 1000 random uniforms"
   ]
  },
  {
   "cell_type": "code",
   "execution_count": null,
   "metadata": {},
   "outputs": [],
   "source": [
    "n <- 40\n",
    "nsim <- 1000\n",
    "lambda <- 0.2\n",
    "theor_mean <- 1/lambda\n",
    "theor_sd <- 1/lambda"
   ]
  },
  {
   "cell_type": "code",
   "execution_count": null,
   "metadata": {},
   "outputs": [],
   "source": [
    "sims_mean <- c()\n",
    "sims_sd <- c()\n",
    "for (i in 1:nsim) { \n",
    "    sample <- rexp(n, lambda)\n",
    "    sample_mean <- mean(sample)\n",
    "    sample_sd <- sqrt(var(sample))\n",
    "    sims_mean <- c(sims_mean, sample_mean)\n",
    "    sims_sd <- c(sims_sd, sample_sd)\n",
    "}"
   ]
  },
  {
   "cell_type": "code",
   "execution_count": null,
   "metadata": {},
   "outputs": [],
   "source": [
    "mean(theor_mean > sims_mean - qnorm(0.975)*theor_sd/sqrt(n) & theor_mean < sims_mean + qnorm(0.975)*theor_sd/sqrt(n))"
   ]
  },
  {
   "cell_type": "code",
   "execution_count": null,
   "metadata": {},
   "outputs": [],
   "source": [
    "normed_sim <- (sims_mean - theor_mean) * sqrt(n) / theor_sd"
   ]
  },
  {
   "cell_type": "code",
   "execution_count": null,
   "metadata": {},
   "outputs": [],
   "source": [
    "jpeg('meanplot.jpg')\n",
    "hist(sims_mean)\n",
    "abline(v=5, col='red', lwd=5, lty=3)\n",
    "legend(6, 220, legend=c(\"Sample mean hist\", \"Theoretical mean\"),\n",
    "       col=c(\"black\", \"red\"), lty=c(1,3), cex=0.8)\n",
    "dev.off()"
   ]
  },
  {
   "cell_type": "code",
   "execution_count": null,
   "metadata": {},
   "outputs": [],
   "source": [
    "jpeg('sdlot.jpg')\n",
    "hist(sims_sd)\n",
    "abline(v=5, col='red', lwd=5, lty=3)\n",
    "legend(6, 330, legend=c(\"Sample SD hist\", \"Theoretical SD\"),\n",
    "       col=c(\"black\", \"red\"), lty=c(1,3), cex=0.8)\n",
    "dev.off()"
   ]
  },
  {
   "cell_type": "code",
   "execution_count": null,
   "metadata": {},
   "outputs": [],
   "source": [
    "norm_mean <- (sims_mean - theor_mean)*sqrt(n)/theor_sd"
   ]
  },
  {
   "cell_type": "code",
   "execution_count": null,
   "metadata": {},
   "outputs": [],
   "source": [
    "norm_mean2 <- (sims_mean - theor_mean)*sqrt(n)/sample_sd"
   ]
  },
  {
   "cell_type": "code",
   "execution_count": null,
   "metadata": {},
   "outputs": [],
   "source": [
    "x <- seq(-5, 5, length=1000)\n",
    "hx <- dnorm(x)"
   ]
  },
  {
   "cell_type": "code",
   "execution_count": null,
   "metadata": {},
   "outputs": [],
   "source": [
    "qqnorm(norm_mean)\n",
    "qqline(norm_mean)"
   ]
  },
  {
   "cell_type": "code",
   "execution_count": null,
   "metadata": {},
   "outputs": [],
   "source": [
    "hist(norm_mean2, freq = FALSE,  col=\"white\")\n",
    "hist(norm_mean2, freq = FALSE,  col=\"white\", add=TRUE)\n",
    "lines(x, hx,  col=\"red\", type=\"l\", lty=2, xlab=\"x value\")"
   ]
  },
  {
   "cell_type": "code",
   "execution_count": null,
   "metadata": {},
   "outputs": [],
   "source": [
    "jpeg('normplot.jpg')\n",
    "hist(norm_mean, freq = FALSE,  col=\"white\")\n",
    "lines(x, hx,  col=\"red\", type=\"l\", lty=2, xlab=\"x value\")\n",
    "legend(1, 0.35, legend=c(\"Normed sample mean\", \"Standard normal distribution\"),\n",
    "       col=c(\"black\", \"red\"), lty=c(1,3), cex=0.8)\n",
    "dev.off()"
   ]
  }
 ],
 "metadata": {
  "kernelspec": {
   "display_name": "R",
   "language": "R",
   "name": "ir"
  },
  "language_info": {
   "codemirror_mode": "r",
   "file_extension": ".r",
   "mimetype": "text/x-r-source",
   "name": "R",
   "pygments_lexer": "r",
   "version": "3.4.1"
  }
 },
 "nbformat": 4,
 "nbformat_minor": 2
}
